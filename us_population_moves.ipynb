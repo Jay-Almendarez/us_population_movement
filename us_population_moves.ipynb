{
 "cells": [
  {
   "cell_type": "code",
   "execution_count": 1,
   "id": "f85b4479-091d-4415-9d10-46922778582d",
   "metadata": {
    "tags": []
   },
   "outputs": [],
   "source": [
    "import pandas as pd\n",
    "import re"
   ]
  },
  {
   "cell_type": "code",
   "execution_count": 2,
   "id": "59a9ef1b-a5d3-4541-b6ad-35394f7122af",
   "metadata": {
    "tags": []
   },
   "outputs": [],
   "source": [
    "# pythonically retrieving stores csv\n",
    "pop_2010 = pd.read_csv('pop_2010.csv')\n",
    "pop_2011 = pd.read_csv('pop_2011.csv')\n",
    "pop_2012 = pd.read_csv('pop_2012.csv')\n",
    "pop_2013 = pd.read_csv('pop_2013.csv')\n",
    "pop_2014 = pd.read_csv('pop_2014.csv')\n",
    "pop_2015 = pd.read_csv('pop_2015.csv')\n",
    "pop_2016 = pd.read_csv('pop_2016.csv')\n",
    "pop_2017 = pd.read_csv('pop_2017.csv')\n",
    "pop_2018 = pd.read_csv('pop_2018.csv')\n",
    "pop_2019 = pd.read_csv('pop_2019.csv')\n",
    "pop_2020 = pd.read_csv('pop_2020.csv')\n",
    "pop_2021 = pd.read_csv('pop_2021.csv')"
   ]
  },
  {
   "cell_type": "code",
   "execution_count": 3,
   "id": "50477a98-0298-4a41-946e-915cd2130947",
   "metadata": {
    "tags": []
   },
   "outputs": [],
   "source": [
    "def pop_group(df, title):\n",
    "    \"\"\"\n",
    "    Process and clean population data in DataFrame.\n",
    "\n",
    "    Parameters:\n",
    "    - df (pd.DataFrame): Input DataFrame containing population data.\n",
    "\n",
    "    Returns:\n",
    "    pd.DataFrame: Processed DataFrame with columns representing different age groups and demographic information.\n",
    "\n",
    "    This function takes a DataFrame containing population data and performs the following tasks:\n",
    "    1. Transpose the DataFrame and reset index for easier manipulation.\n",
    "    2. Clean and standardize column names, strip leading/trailing spaces, and rename columns.\n",
    "    3. Remove unnecessary characters and convert numeric columns to integer.\n",
    "    4. Calculate additional columns such as child_pop, adult_pop, young_adult_pop, and senior_pop.\n",
    "    5. Return a cleaned and processed DataFrame with relevant demographic information.\n",
    "    \"\"\"\n",
    "    df = df.T\n",
    "    df.reset_index(inplace=True)\n",
    "    df.columns = df.iloc[0]\n",
    "    df = df.iloc[1:]\n",
    "    df.columns = df.columns.str.strip()\n",
    "    df.rename(columns={'Label (Grouping)':'county',\n",
    "                            'Total population': 'total_pop',\n",
    "                            'Under 5 years': 'under_5',\n",
    "                            '5 to 9 years': '5-9',\n",
    "                            '10 to 14 years': '10-14',\n",
    "                            '15 to 19 years': '15-19',\n",
    "                            '20 to 24 years': '20-24',\n",
    "                            '25 to 34 years': '25-34',\n",
    "                            '35 to 44 years': '35-44',\n",
    "                            '45 to 54 years': '45-54',\n",
    "                            '55 to 59 years': '55-59',\n",
    "                            '60 to 64 years': '60-64',\n",
    "                            '65 to 74 years': '65-74',\n",
    "                            '75 to 84 years': '75-84',\n",
    "                            '85 years and over': '85+',\n",
    "                            '18 years and over': '18+',\n",
    "                            '65 years and over': '65+',}, inplace=True)\n",
    "    df.county = df.county.str.replace('!!Estimate', '')\n",
    "    cat = ['county', 'total_pop','under_5', '5-9', '10-14', '15-19', '20-24', '25-34', '35-44', '45-54',\n",
    "           '55-59', '60-64', '65-74', '75-84', '85+', '65+', '18+']\n",
    "    df = df[cat]\n",
    "    df = df.loc[:, ~df.columns.duplicated()]\n",
    "    for col in df.drop(columns = 'county'):\n",
    "        df[col] = df[col].str.replace(',','')\n",
    "    df = df.dropna()\n",
    "    df = df.reset_index().drop(columns = 'index')\n",
    "    num = df.drop(columns='county').astype(int)\n",
    "    df = pd.concat([df.county, num], axis = 1)\n",
    "    df['child_pop'] = (df['total_pop'] - df['18+'])\n",
    "    df['adult_pop'] = (df['25-34'] + df['35-44'] + df['45-54'] + df['55-59'] + df['60-64'])\n",
    "    df['young_adult_pop'] = (df['18+'] - df['25-34'] - df['35-44'] - df['45-54'] - df['55-59'] - df['60-64'] - df['65+'])\n",
    "    df = df.rename(columns = {'65+': 'senior_pop'})\n",
    "    pop = ['county', 'child_pop', 'young_adult_pop', 'adult_pop', 'senior_pop', 'total_pop']\n",
    "    df = df[pop]\n",
    "    df = df.rename(columns = {'child_pop': f'child_{title}', 'young_adult_pop': f'yound_adult_{title}', 'adult_pop': f'adult_{title}', 'senior_pop': f'senior_{title}', 'total_pop': f'total_{title}'})\n",
    "    df['county_sep'] = df['county'].apply(lambda x: re.match(r'([^,]+),', x).group(1).strip() if re.match(r'([^,]+),', x) else '')\n",
    "    df['state'] = df['county'].apply(lambda x: re.search(r',\\s*(.*)', x).group(1).strip() if re.search(r',\\s*(.*)', x) else '')\n",
    "    df = df.drop(columns = 'county')\n",
    "    df['county'] = df['county_sep'].apply(lambda x: ' '.join(x.split()[:-1]) if x else '')\n",
    "    df = df.drop(columns = 'county_sep')\n",
    "    return df"
   ]
  },
  {
   "cell_type": "code",
   "execution_count": 4,
   "id": "c8130fc9-94d3-4a76-9d09-cf989acd3a1d",
   "metadata": {
    "tags": []
   },
   "outputs": [],
   "source": [
    "# let's apply to function transformation to all of our population datasets\n",
    "pop_2010 = pop_group(pop_2010, 'pop_2010')\n",
    "pop_2011 = pop_group(pop_2011, 'pop_2011')\n",
    "pop_2012 = pop_group(pop_2012, 'pop_2012')\n",
    "pop_2013 = pop_group(pop_2013, 'pop_2013')\n",
    "pop_2014 = pop_group(pop_2014, 'pop_2014')\n",
    "pop_2015 = pop_group(pop_2015, 'pop_2015')\n",
    "pop_2016 = pop_group(pop_2016, 'pop_2016')\n",
    "pop_2017 = pop_group(pop_2017, 'pop_2017')\n",
    "pop_2018 = pop_group(pop_2018, 'pop_2018')\n",
    "pop_2019 = pop_group(pop_2019, 'pop_2019')\n",
    "pop_2020 = pop_group(pop_2020, 'pop_2020')\n",
    "pop_2021 = pop_group(pop_2021, 'pop_2021')"
   ]
  },
  {
   "cell_type": "code",
   "execution_count": 6,
   "id": "5aaf40af-e1a0-463e-b309-86a877683c8a",
   "metadata": {
    "tags": []
   },
   "outputs": [],
   "source": [
    "# now that they're transformed, let's store them as new csvs and move them into Tableau\n",
    "pop_2010.to_csv('clean_pop_2010.csv')\n",
    "pop_2011.to_csv('clean_pop_2011.csv')\n",
    "pop_2012.to_csv('clean_pop_2012.csv')\n",
    "pop_2013.to_csv('clean_pop_2013.csv')\n",
    "pop_2014.to_csv('clean_pop_2014.csv')\n",
    "pop_2015.to_csv('clean_pop_2015.csv')\n",
    "pop_2016.to_csv('clean_pop_2016.csv')\n",
    "pop_2017.to_csv('clean_pop_2017.csv')\n",
    "pop_2018.to_csv('clean_pop_2018.csv')\n",
    "pop_2019.to_csv('clean_pop_2019.csv')\n",
    "pop_2020.to_csv('clean_pop_2020.csv')\n",
    "pop_2021.to_csv('clean_pop_2021.csv')"
   ]
  }
 ],
 "metadata": {
  "kernelspec": {
   "display_name": "Python 3 (ipykernel)",
   "language": "python",
   "name": "python3"
  },
  "language_info": {
   "codemirror_mode": {
    "name": "ipython",
    "version": 3
   },
   "file_extension": ".py",
   "mimetype": "text/x-python",
   "name": "python",
   "nbconvert_exporter": "python",
   "pygments_lexer": "ipython3",
   "version": "3.11.5"
  }
 },
 "nbformat": 4,
 "nbformat_minor": 5
}
