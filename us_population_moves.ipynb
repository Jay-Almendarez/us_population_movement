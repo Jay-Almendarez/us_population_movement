{
 "cells": [
  {
   "cell_type": "code",
   "execution_count": 1,
   "id": "f85b4479-091d-4415-9d10-46922778582d",
   "metadata": {
    "tags": []
   },
   "outputs": [],
   "source": [
    "import pandas as pd"
   ]
  },
  {
   "cell_type": "code",
   "execution_count": 18,
   "id": "59a9ef1b-a5d3-4541-b6ad-35394f7122af",
   "metadata": {
    "tags": []
   },
   "outputs": [],
   "source": [
    "# pythonically retrieving stores csv\n",
    "pop_2010 = pd.read_csv('pop_2010.csv')\n",
    "pop_2011 = pd.read_csv('pop_2011.csv')\n",
    "pop_2012 = pd.read_csv('pop_2012.csv')\n",
    "pop_2013 = pd.read_csv('pop_2013.csv')\n",
    "pop_2014 = pd.read_csv('pop_2014.csv')\n",
    "pop_2015 = pd.read_csv('pop_2015.csv')\n",
    "pop_2016 = pd.read_csv('pop_2016.csv')\n",
    "pop_2017 = pd.read_csv('pop_2017.csv')\n",
    "pop_2018 = pd.read_csv('pop_2018.csv')\n",
    "pop_2019 = pd.read_csv('pop_2019.csv')\n",
    "pop_2020 = pd.read_csv('pop_2020.csv')\n",
    "pop_2021 = pd.read_csv('pop_2021.csv')"
   ]
  },
  {
   "cell_type": "code",
   "execution_count": 29,
   "id": "50477a98-0298-4a41-946e-915cd2130947",
   "metadata": {
    "tags": []
   },
   "outputs": [],
   "source": [
    "def pop_group(df, title):\n",
    "    \"\"\"\n",
    "    Process and clean population data in DataFrame.\n",
    "\n",
    "    Parameters:\n",
    "    - df (pd.DataFrame): Input DataFrame containing population data.\n",
    "\n",
    "    Returns:\n",
    "    pd.DataFrame: Processed DataFrame with columns representing different age groups and demographic information.\n",
    "\n",
    "    This function takes a DataFrame containing population data and performs the following tasks:\n",
    "    1. Transpose the DataFrame and reset index.\n",
    "    2. Rename columns for better readability.\n",
    "    3. Clean up column values and remove unnecessary characters.\n",
    "    4. Select relevant columns and handle duplicates.\n",
    "    5. Convert numeric columns to integer and handle missing values.\n",
    "    6. Calculate additional columns such as child_pop, adult_pop, young_adult_pop, and senior_pop.\n",
    "    7. Return a cleaned and processed DataFrame with relevant demographic information.\n",
    "    \"\"\"\n",
    "    df = df.T\n",
    "    df.reset_index(inplace=True)\n",
    "    df.columns = df.iloc[0]\n",
    "    df = df.iloc[1:]\n",
    "    df.rename(columns={'Label (Grouping)':'county',\n",
    "                            '\\xa0\\xa0\\xa0\\xa0Total population': 'total_pop',\n",
    "                            '\\xa0\\xa0\\xa0\\xa0Under 5 years': 'under_5',\n",
    "                            '\\xa0\\xa0\\xa0\\xa05 to 9 years': '5-9',\n",
    "                            '\\xa0\\xa0\\xa0\\xa010 to 14 years': '10-14',\n",
    "                            '\\xa0\\xa0\\xa0\\xa015 to 19 years': '15-19',\n",
    "                            '\\xa0\\xa0\\xa0\\xa020 to 24 years': '20-24',\n",
    "                            '\\xa0\\xa0\\xa0\\xa025 to 34 years': '25-34',\n",
    "                            '\\xa0\\xa0\\xa0\\xa035 to 44 years': '35-44',\n",
    "                            '\\xa0\\xa0\\xa0\\xa045 to 54 years': '45-54',\n",
    "                            '\\xa0\\xa0\\xa0\\xa055 to 59 years': '55-59',\n",
    "                            '\\xa0\\xa0\\xa0\\xa060 to 64 years': '60-64',\n",
    "                            '\\xa0\\xa0\\xa0\\xa065 to 74 years': '65-74',\n",
    "                            '\\xa0\\xa0\\xa0\\xa075 to 84 years': '75-84',\n",
    "                            '\\xa0\\xa0\\xa0\\xa085 years and over': '85+',\n",
    "                            '\\xa0\\xa0\\xa0\\xa018 years and over': '18+',\n",
    "                            '\\xa0\\xa0\\xa0\\xa065 years and over': '65+',}, inplace=True)\n",
    "    df.county = df.county.str.replace('!!Estimate', '')\n",
    "    cat = ['county', 'total_pop','under_5', '5-9', '10-14', '15-19', '20-24', '25-34', '35-44', '45-54',\n",
    "           '55-59', '60-64', '65-74', '75-84', '85+', '65+', '18+']\n",
    "    df = df[cat]\n",
    "    df = df.loc[:, ~df.columns.duplicated()]\n",
    "    for col in df.drop(columns = 'county'):\n",
    "        df[col] = df[col].str.replace(',','')\n",
    "    df = df.dropna()\n",
    "    df = df.reset_index().drop(columns = 'index')\n",
    "    num = df.drop(columns='county').astype(int)\n",
    "    df = pd.concat([df.county, num], axis = 1)\n",
    "    df['child_pop'] = (df['total_pop'] - df['18+'])\n",
    "    df['adult_pop'] = (df['25-34'] + df['35-44'] + df['45-54'] + df['55-59'] + df['60-64'])\n",
    "    df['young_adult_pop'] = (df['18+'] - df['25-34'] - df['35-44'] - df['45-54'] - df['55-59'] - df['60-64'] - df['65+'])\n",
    "    df = df.rename(columns = {'65+': 'senior_pop'})\n",
    "    pop = ['county', 'child_pop', 'young_adult_pop', 'adult_pop', 'senior_pop', 'total_pop']\n",
    "    df = df[pop]\n",
    "    df = df.rename(columns = {'child_pop': f'child_{title}', 'young_adult_pop': f'yound_adult_{title}', 'adult_pop': f'adult_{title}', 'senior_pop': f'senior_{title}', 'total_pop': f'total_{title}'})\n",
    "    return df"
   ]
  },
  {
   "cell_type": "code",
   "execution_count": 26,
   "id": "eabc4b7c-4fa6-4054-bce0-193004cc662d",
   "metadata": {
    "tags": []
   },
   "outputs": [],
   "source": [
    "def pop_group2(df, title):\n",
    "    \"\"\"\n",
    "    Process and clean population data in DataFrame.\n",
    "\n",
    "    Parameters:\n",
    "    - df (pd.DataFrame): Input DataFrame containing population data.\n",
    "\n",
    "    Returns:\n",
    "    pd.DataFrame: Processed DataFrame with columns representing different age groups and demographic information.\n",
    "\n",
    "    This function takes a DataFrame containing population data and performs the following tasks:\n",
    "    1. Transpose the DataFrame and reset index.\n",
    "    2. Rename columns for better readability.\n",
    "    3. Clean up column values and remove unnecessary characters.\n",
    "    4. Select relevant columns and handle duplicates.\n",
    "    5. Convert numeric columns to integer and handle missing values.\n",
    "    6. Calculate additional columns such as child_pop, adult_pop, young_adult_pop, and senior_pop.\n",
    "    7. Return a cleaned and processed DataFrame with relevant demographic information.\n",
    "    \"\"\"\n",
    "    df = df.T\n",
    "    df.reset_index(inplace=True)\n",
    "    df.columns = df.iloc[0]\n",
    "    df = df.iloc[1:]\n",
    "    df.rename(columns={'Label (Grouping)':'county',\n",
    "                            '\\xa0\\xa0\\xa0\\xa0Total population': 'total_pop',\n",
    "                            '        Under 5 years': 'under_5',\n",
    "                            '        5 to 9 years': '5-9',\n",
    "                            '        10 to 14 years': '10-14',\n",
    "                            '        15 to 19 years': '15-19',\n",
    "                            '        20 to 24 years': '20-24',\n",
    "                            '        25 to 34 years': '25-34',\n",
    "                            '        35 to 44 years': '35-44',\n",
    "                            '        45 to 54 years': '45-54',\n",
    "                            '        55 to 59 years': '55-59',\n",
    "                            '        60 to 64 years': '60-64',\n",
    "                            '        65 to 74 years': '65-74',\n",
    "                            '        75 to 84 years': '75-84',\n",
    "                            '        85 years and over': '85+',\n",
    "                            '        18 years and over': '18+',\n",
    "                            '        65 years and over': '65+',}, inplace=True)\n",
    "    df.county = df.county.str.replace('!!Estimate', '')\n",
    "    cat = ['county', 'total_pop','under_5', '5-9', '10-14', '15-19', '20-24', '25-34', '35-44', '45-54',\n",
    "           '55-59', '60-64', '65-74', '75-84', '85+', '65+', '18+']\n",
    "    df = df[cat]\n",
    "    df = df.loc[:, ~df.columns.duplicated()]\n",
    "    for col in df.drop(columns = 'county'):\n",
    "        df[col] = df[col].str.replace(',','')\n",
    "    df = df.dropna()\n",
    "    df = df.reset_index().drop(columns = 'index')\n",
    "    num = df.drop(columns='county').astype(int)\n",
    "    df = pd.concat([df.county, num], axis = 1)\n",
    "    df['child_pop'] = (df['total_pop'] - df['18+'])\n",
    "    df['adult_pop'] = (df['25-34'] + df['35-44'] + df['45-54'] + df['55-59'] + df['60-64'])\n",
    "    df['young_adult_pop'] = (df['18+'] - df['25-34'] - df['35-44'] - df['45-54'] - df['55-59'] - df['60-64'] - df['65+'])\n",
    "    df = df.rename(columns = {'65+': 'senior_pop'})\n",
    "    pop = ['county', 'child_pop', 'young_adult_pop', 'adult_pop', 'senior_pop', 'total_pop']\n",
    "    df = df[pop]\n",
    "    df = df.rename(columns = {'child_pop': f'child_{title}', 'young_adult_pop': f'yound_adult_{title}', 'adult_pop': f'adult_{title}', 'senior_pop': f'senior_{title}', 'total_pop': f'total_{title}'})\n",
    "    return df"
   ]
  },
  {
   "cell_type": "code",
   "execution_count": 13,
   "id": "89a11f7a-4a76-4617-988b-b976c22e0889",
   "metadata": {
    "tags": []
   },
   "outputs": [],
   "source": [
    "pop_2010 = pop_2010.T\n",
    "pop_2010.reset_index(inplace=True)\n",
    "pop_2010.columns = pop_2010.iloc[0]\n",
    "pop_2010 = pop_2010.iloc[1:]"
   ]
  },
  {
   "cell_type": "code",
   "execution_count": 19,
   "id": "942e9af2-fcc5-4814-9609-7419ed941715",
   "metadata": {
    "tags": []
   },
   "outputs": [],
   "source": [
    "pop_2017 = pop_2017.T\n",
    "pop_2017.reset_index(inplace=True)\n",
    "pop_2017.columns = pop_2017.iloc[0]\n",
    "pop_2017 = pop_2017.iloc[1:]"
   ]
  },
  {
   "cell_type": "code",
   "execution_count": 22,
   "id": "4e015353-6d77-4de3-8469-e5a5abe6bc59",
   "metadata": {
    "tags": []
   },
   "outputs": [],
   "source": [
    "pop_2018 = pop_2018.T\n",
    "pop_2018.reset_index(inplace=True)\n",
    "pop_2018.columns = pop_2018.iloc[0]\n",
    "pop_2018 = pop_2018.iloc[1:]"
   ]
  },
  {
   "cell_type": "code",
   "execution_count": 24,
   "id": "e5a62f6a-aa4e-4909-9b26-102ef8f8f6de",
   "metadata": {
    "tags": []
   },
   "outputs": [],
   "source": [
    "pop_2019 = pop_2019.T\n",
    "pop_2019.reset_index(inplace=True)\n",
    "pop_2019.columns = pop_2019.iloc[0]\n",
    "pop_2019 = pop_2019.iloc[1:]"
   ]
  },
  {
   "cell_type": "code",
   "execution_count": 25,
   "id": "4a6e2da4-a1e8-469c-9ed3-75fe8fa93f4c",
   "metadata": {
    "tags": []
   },
   "outputs": [],
   "source": [
    "pop_2020 = pop_2020.T\n",
    "pop_2020.reset_index(inplace=True)\n",
    "pop_2020.columns = pop_2020.iloc[0]\n",
    "pop_2020 = pop_2020.iloc[1:]"
   ]
  },
  {
   "cell_type": "code",
   "execution_count": 26,
   "id": "d9d04dea-02da-4d69-b749-d1ea8fb44997",
   "metadata": {
    "tags": []
   },
   "outputs": [],
   "source": [
    "pop_2021 = pop_2021.T\n",
    "pop_2021.reset_index(inplace=True)\n",
    "pop_2021.columns = pop_2021.iloc[0]\n",
    "pop_2021 = pop_2021.iloc[1:]"
   ]
  },
  {
   "cell_type": "code",
   "execution_count": null,
   "id": "97eb7180-5c19-4c43-a0da-b90895dfaae7",
   "metadata": {},
   "outputs": [],
   "source": [
    "'    Under 5 years'"
   ]
  },
  {
   "cell_type": "code",
   "execution_count": null,
   "id": "36cbadc4-b643-42aa-ad8b-2d43110fd068",
   "metadata": {},
   "outputs": [],
   "source": [
    "'12345678Under 5 years'"
   ]
  },
  {
   "cell_type": "code",
   "execution_count": null,
   "id": "4bccdbaf-774e-4628-bca4-2c49e1df67e4",
   "metadata": {},
   "outputs": [],
   "source": [
    "'5 to 9 years'"
   ]
  },
  {
   "cell_type": "code",
   "execution_count": 21,
   "id": "0b1920be-d1cd-4241-aae2-7d7a9a05023a",
   "metadata": {
    "tags": []
   },
   "outputs": [],
   "source": [
    "column_name_pattern = '        '\n",
    "\n",
    "# Use the filter method to select columns with the specified pattern\n",
    "pop_2017 = pop_2017.filter(like=column_name_pattern, axis=1)"
   ]
  },
  {
   "cell_type": "code",
   "execution_count": 21,
   "id": "4160a49c-b2f6-4ece-96f7-122f9a710a95",
   "metadata": {
    "tags": []
   },
   "outputs": [
    {
     "data": {
      "text/plain": [
       "Index(['Label (Grouping)', 'SEX AND AGE', '    Total population', '    Male',\n",
       "       '    Female', '    Under 5 years', '    5 to 9 years',\n",
       "       '    10 to 14 years', '    15 to 19 years', '    20 to 24 years',\n",
       "       '    25 to 34 years', '    35 to 44 years', '    45 to 54 years',\n",
       "       '    55 to 59 years', '    60 to 64 years', '    65 to 74 years',\n",
       "       '    75 to 84 years', '    85 years and over', '    Median age (years)',\n",
       "       '    18 years and over'],\n",
       "      dtype='object', name=0)"
      ]
     },
     "execution_count": 21,
     "metadata": {},
     "output_type": "execute_result"
    }
   ],
   "source": [
    "pop_2010.columns[0:20]"
   ]
  },
  {
   "cell_type": "code",
   "execution_count": 22,
   "id": "431ac385-76d0-4652-9d12-15577c3b5bd4",
   "metadata": {
    "tags": []
   },
   "outputs": [
    {
     "data": {
      "text/plain": [
       "Index([], dtype='object', name=0)"
      ]
     },
     "execution_count": 22,
     "metadata": {},
     "output_type": "execute_result"
    }
   ],
   "source": [
    "pop_2017.columns[0:20]"
   ]
  },
  {
   "cell_type": "code",
   "execution_count": 23,
   "id": "d550ec58-2615-45c6-8670-b972cbb3c61d",
   "metadata": {
    "tags": []
   },
   "outputs": [
    {
     "data": {
      "text/plain": [
       "Index(['Label (Grouping)', 'SEX AND AGE', '    Total population',\n",
       "       '        Male', '        Female',\n",
       "       '        Sex ratio (males per 100 females)', '        Under 5 years',\n",
       "       '        5 to 9 years', '        10 to 14 years',\n",
       "       '        15 to 19 years', '        20 to 24 years',\n",
       "       '        25 to 34 years', '        35 to 44 years',\n",
       "       '        45 to 54 years', '        55 to 59 years',\n",
       "       '        60 to 64 years', '        65 to 74 years',\n",
       "       '        75 to 84 years', '        85 years and over',\n",
       "       '        Median age (years)'],\n",
       "      dtype='object', name=0)"
      ]
     },
     "execution_count": 23,
     "metadata": {},
     "output_type": "execute_result"
    }
   ],
   "source": [
    "pop_2018.columns[0:20]"
   ]
  },
  {
   "cell_type": "code",
   "execution_count": 27,
   "id": "84b7498a-3c6e-493c-87b5-a80bb4a93db9",
   "metadata": {
    "tags": []
   },
   "outputs": [
    {
     "data": {
      "text/plain": [
       "Index(['Label (Grouping)', 'SEX AND AGE', '    Total population',\n",
       "       '        Male', '        Female',\n",
       "       '        Sex ratio (males per 100 females)', '        Under 5 years',\n",
       "       '        5 to 9 years', '        10 to 14 years',\n",
       "       '        15 to 19 years', '        20 to 24 years',\n",
       "       '        25 to 34 years', '        35 to 44 years',\n",
       "       '        45 to 54 years', '        55 to 59 years',\n",
       "       '        60 to 64 years', '        65 to 74 years',\n",
       "       '        75 to 84 years', '        85 years and over',\n",
       "       '        Median age (years)'],\n",
       "      dtype='object', name=0)"
      ]
     },
     "execution_count": 27,
     "metadata": {},
     "output_type": "execute_result"
    }
   ],
   "source": [
    "pop_2019.columns[0:20]"
   ]
  },
  {
   "cell_type": "code",
   "execution_count": 28,
   "id": "10fcbe29-f4ed-4dca-bbea-05e0115ac6ee",
   "metadata": {
    "tags": []
   },
   "outputs": [
    {
     "data": {
      "text/plain": [
       "Index(['Label (Grouping)', 'SEX AND AGE', '    Total population',\n",
       "       '        Male', '        Female',\n",
       "       '        Sex ratio (males per 100 females)', '        Under 5 years',\n",
       "       '        5 to 9 years', '        10 to 14 years',\n",
       "       '        15 to 19 years', '        20 to 24 years',\n",
       "       '        25 to 34 years', '        35 to 44 years',\n",
       "       '        45 to 54 years', '        55 to 59 years',\n",
       "       '        60 to 64 years', '        65 to 74 years',\n",
       "       '        75 to 84 years', '        85 years and over',\n",
       "       '        Median age (years)'],\n",
       "      dtype='object', name=0)"
      ]
     },
     "execution_count": 28,
     "metadata": {},
     "output_type": "execute_result"
    }
   ],
   "source": [
    "pop_2020.columns[0:20]"
   ]
  },
  {
   "cell_type": "code",
   "execution_count": 29,
   "id": "98573277-7af2-4686-ad68-36c812557812",
   "metadata": {
    "tags": []
   },
   "outputs": [
    {
     "data": {
      "text/plain": [
       "Index(['Label (Grouping)', 'SEX AND AGE', '    Total population',\n",
       "       '        Male', '        Female',\n",
       "       '        Sex ratio (males per 100 females)', '        Under 5 years',\n",
       "       '        5 to 9 years', '        10 to 14 years',\n",
       "       '        15 to 19 years', '        20 to 24 years',\n",
       "       '        25 to 34 years', '        35 to 44 years',\n",
       "       '        45 to 54 years', '        55 to 59 years',\n",
       "       '        60 to 64 years', '        65 to 74 years',\n",
       "       '        75 to 84 years', '        85 years and over',\n",
       "       '        Median age (years)'],\n",
       "      dtype='object', name=0)"
      ]
     },
     "execution_count": 29,
     "metadata": {},
     "output_type": "execute_result"
    }
   ],
   "source": [
    "pop_2021.columns[0:20]"
   ]
  },
  {
   "cell_type": "code",
   "execution_count": 30,
   "id": "c8130fc9-94d3-4a76-9d09-cf989acd3a1d",
   "metadata": {
    "tags": []
   },
   "outputs": [
    {
     "ename": "KeyError",
     "evalue": "\"['total_pop', 'under_5', '5-9', '10-14', '15-19', '20-24', '25-34', '35-44', '45-54', '55-59', '60-64', '65-74', '75-84', '85+', '65+', '18+'] not in index\"",
     "output_type": "error",
     "traceback": [
      "\u001b[0;31m---------------------------------------------------------------------------\u001b[0m",
      "\u001b[0;31mKeyError\u001b[0m                                  Traceback (most recent call last)",
      "Cell \u001b[0;32mIn[30], line 1\u001b[0m\n\u001b[0;32m----> 1\u001b[0m pop_2010 \u001b[38;5;241m=\u001b[39m pop_group(pop_2010, \u001b[38;5;124m'\u001b[39m\u001b[38;5;124mpop_2010\u001b[39m\u001b[38;5;124m'\u001b[39m)\n\u001b[1;32m      2\u001b[0m pop_2011 \u001b[38;5;241m=\u001b[39m pop_group(pop_2011, \u001b[38;5;124m'\u001b[39m\u001b[38;5;124mpop_2011\u001b[39m\u001b[38;5;124m'\u001b[39m)\n\u001b[1;32m      3\u001b[0m pop_2012 \u001b[38;5;241m=\u001b[39m pop_group(pop_2012, \u001b[38;5;124m'\u001b[39m\u001b[38;5;124mpop_2012\u001b[39m\u001b[38;5;124m'\u001b[39m)\n",
      "Cell \u001b[0;32mIn[29], line 44\u001b[0m, in \u001b[0;36mpop_group\u001b[0;34m(df, title)\u001b[0m\n\u001b[1;32m     41\u001b[0m df\u001b[38;5;241m.\u001b[39mcounty \u001b[38;5;241m=\u001b[39m df\u001b[38;5;241m.\u001b[39mcounty\u001b[38;5;241m.\u001b[39mstr\u001b[38;5;241m.\u001b[39mreplace(\u001b[38;5;124m'\u001b[39m\u001b[38;5;124m!!Estimate\u001b[39m\u001b[38;5;124m'\u001b[39m, \u001b[38;5;124m'\u001b[39m\u001b[38;5;124m'\u001b[39m)\n\u001b[1;32m     42\u001b[0m cat \u001b[38;5;241m=\u001b[39m [\u001b[38;5;124m'\u001b[39m\u001b[38;5;124mcounty\u001b[39m\u001b[38;5;124m'\u001b[39m, \u001b[38;5;124m'\u001b[39m\u001b[38;5;124mtotal_pop\u001b[39m\u001b[38;5;124m'\u001b[39m,\u001b[38;5;124m'\u001b[39m\u001b[38;5;124munder_5\u001b[39m\u001b[38;5;124m'\u001b[39m, \u001b[38;5;124m'\u001b[39m\u001b[38;5;124m5-9\u001b[39m\u001b[38;5;124m'\u001b[39m, \u001b[38;5;124m'\u001b[39m\u001b[38;5;124m10-14\u001b[39m\u001b[38;5;124m'\u001b[39m, \u001b[38;5;124m'\u001b[39m\u001b[38;5;124m15-19\u001b[39m\u001b[38;5;124m'\u001b[39m, \u001b[38;5;124m'\u001b[39m\u001b[38;5;124m20-24\u001b[39m\u001b[38;5;124m'\u001b[39m, \u001b[38;5;124m'\u001b[39m\u001b[38;5;124m25-34\u001b[39m\u001b[38;5;124m'\u001b[39m, \u001b[38;5;124m'\u001b[39m\u001b[38;5;124m35-44\u001b[39m\u001b[38;5;124m'\u001b[39m, \u001b[38;5;124m'\u001b[39m\u001b[38;5;124m45-54\u001b[39m\u001b[38;5;124m'\u001b[39m,\n\u001b[1;32m     43\u001b[0m        \u001b[38;5;124m'\u001b[39m\u001b[38;5;124m55-59\u001b[39m\u001b[38;5;124m'\u001b[39m, \u001b[38;5;124m'\u001b[39m\u001b[38;5;124m60-64\u001b[39m\u001b[38;5;124m'\u001b[39m, \u001b[38;5;124m'\u001b[39m\u001b[38;5;124m65-74\u001b[39m\u001b[38;5;124m'\u001b[39m, \u001b[38;5;124m'\u001b[39m\u001b[38;5;124m75-84\u001b[39m\u001b[38;5;124m'\u001b[39m, \u001b[38;5;124m'\u001b[39m\u001b[38;5;124m85+\u001b[39m\u001b[38;5;124m'\u001b[39m, \u001b[38;5;124m'\u001b[39m\u001b[38;5;124m65+\u001b[39m\u001b[38;5;124m'\u001b[39m, \u001b[38;5;124m'\u001b[39m\u001b[38;5;124m18+\u001b[39m\u001b[38;5;124m'\u001b[39m]\n\u001b[0;32m---> 44\u001b[0m df \u001b[38;5;241m=\u001b[39m df[cat]\n\u001b[1;32m     45\u001b[0m df \u001b[38;5;241m=\u001b[39m df\u001b[38;5;241m.\u001b[39mloc[:, \u001b[38;5;241m~\u001b[39mdf\u001b[38;5;241m.\u001b[39mcolumns\u001b[38;5;241m.\u001b[39mduplicated()]\n\u001b[1;32m     46\u001b[0m \u001b[38;5;28;01mfor\u001b[39;00m col \u001b[38;5;129;01min\u001b[39;00m df\u001b[38;5;241m.\u001b[39mdrop(columns \u001b[38;5;241m=\u001b[39m \u001b[38;5;124m'\u001b[39m\u001b[38;5;124mcounty\u001b[39m\u001b[38;5;124m'\u001b[39m):\n",
      "File \u001b[0;32m/opt/homebrew/anaconda3/lib/python3.11/site-packages/pandas/core/frame.py:3767\u001b[0m, in \u001b[0;36mDataFrame.__getitem__\u001b[0;34m(self, key)\u001b[0m\n\u001b[1;32m   3765\u001b[0m     \u001b[38;5;28;01mif\u001b[39;00m is_iterator(key):\n\u001b[1;32m   3766\u001b[0m         key \u001b[38;5;241m=\u001b[39m \u001b[38;5;28mlist\u001b[39m(key)\n\u001b[0;32m-> 3767\u001b[0m     indexer \u001b[38;5;241m=\u001b[39m \u001b[38;5;28mself\u001b[39m\u001b[38;5;241m.\u001b[39mcolumns\u001b[38;5;241m.\u001b[39m_get_indexer_strict(key, \u001b[38;5;124m\"\u001b[39m\u001b[38;5;124mcolumns\u001b[39m\u001b[38;5;124m\"\u001b[39m)[\u001b[38;5;241m1\u001b[39m]\n\u001b[1;32m   3769\u001b[0m \u001b[38;5;66;03m# take() does not accept boolean indexers\u001b[39;00m\n\u001b[1;32m   3770\u001b[0m \u001b[38;5;28;01mif\u001b[39;00m \u001b[38;5;28mgetattr\u001b[39m(indexer, \u001b[38;5;124m\"\u001b[39m\u001b[38;5;124mdtype\u001b[39m\u001b[38;5;124m\"\u001b[39m, \u001b[38;5;28;01mNone\u001b[39;00m) \u001b[38;5;241m==\u001b[39m \u001b[38;5;28mbool\u001b[39m:\n",
      "File \u001b[0;32m/opt/homebrew/anaconda3/lib/python3.11/site-packages/pandas/core/indexes/base.py:5877\u001b[0m, in \u001b[0;36mIndex._get_indexer_strict\u001b[0;34m(self, key, axis_name)\u001b[0m\n\u001b[1;32m   5874\u001b[0m \u001b[38;5;28;01melse\u001b[39;00m:\n\u001b[1;32m   5875\u001b[0m     keyarr, indexer, new_indexer \u001b[38;5;241m=\u001b[39m \u001b[38;5;28mself\u001b[39m\u001b[38;5;241m.\u001b[39m_reindex_non_unique(keyarr)\n\u001b[0;32m-> 5877\u001b[0m \u001b[38;5;28mself\u001b[39m\u001b[38;5;241m.\u001b[39m_raise_if_missing(keyarr, indexer, axis_name)\n\u001b[1;32m   5879\u001b[0m keyarr \u001b[38;5;241m=\u001b[39m \u001b[38;5;28mself\u001b[39m\u001b[38;5;241m.\u001b[39mtake(indexer)\n\u001b[1;32m   5880\u001b[0m \u001b[38;5;28;01mif\u001b[39;00m \u001b[38;5;28misinstance\u001b[39m(key, Index):\n\u001b[1;32m   5881\u001b[0m     \u001b[38;5;66;03m# GH 42790 - Preserve name from an Index\u001b[39;00m\n",
      "File \u001b[0;32m/opt/homebrew/anaconda3/lib/python3.11/site-packages/pandas/core/indexes/base.py:5941\u001b[0m, in \u001b[0;36mIndex._raise_if_missing\u001b[0;34m(self, key, indexer, axis_name)\u001b[0m\n\u001b[1;32m   5938\u001b[0m     \u001b[38;5;28;01mraise\u001b[39;00m \u001b[38;5;167;01mKeyError\u001b[39;00m(\u001b[38;5;124mf\u001b[39m\u001b[38;5;124m\"\u001b[39m\u001b[38;5;124mNone of [\u001b[39m\u001b[38;5;132;01m{\u001b[39;00mkey\u001b[38;5;132;01m}\u001b[39;00m\u001b[38;5;124m] are in the [\u001b[39m\u001b[38;5;132;01m{\u001b[39;00maxis_name\u001b[38;5;132;01m}\u001b[39;00m\u001b[38;5;124m]\u001b[39m\u001b[38;5;124m\"\u001b[39m)\n\u001b[1;32m   5940\u001b[0m not_found \u001b[38;5;241m=\u001b[39m \u001b[38;5;28mlist\u001b[39m(ensure_index(key)[missing_mask\u001b[38;5;241m.\u001b[39mnonzero()[\u001b[38;5;241m0\u001b[39m]]\u001b[38;5;241m.\u001b[39munique())\n\u001b[0;32m-> 5941\u001b[0m \u001b[38;5;28;01mraise\u001b[39;00m \u001b[38;5;167;01mKeyError\u001b[39;00m(\u001b[38;5;124mf\u001b[39m\u001b[38;5;124m\"\u001b[39m\u001b[38;5;132;01m{\u001b[39;00mnot_found\u001b[38;5;132;01m}\u001b[39;00m\u001b[38;5;124m not in index\u001b[39m\u001b[38;5;124m\"\u001b[39m)\n",
      "\u001b[0;31mKeyError\u001b[0m: \"['total_pop', 'under_5', '5-9', '10-14', '15-19', '20-24', '25-34', '35-44', '45-54', '55-59', '60-64', '65-74', '75-84', '85+', '65+', '18+'] not in index\""
     ]
    }
   ],
   "source": [
    "pop_2010 = pop_group(pop_2010, 'pop_2010')\n",
    "pop_2011 = pop_group(pop_2011, 'pop_2011')\n",
    "pop_2012 = pop_group(pop_2012, 'pop_2012')\n",
    "pop_2013 = pop_group(pop_2013, 'pop_2013')\n",
    "pop_2014 = pop_group(pop_2014, 'pop_2014')\n",
    "pop_2015 = pop_group(pop_2015, 'pop_2015')\n",
    "pop_2016 = pop_group(pop_2016, 'pop_2016')"
   ]
  },
  {
   "cell_type": "code",
   "execution_count": 27,
   "id": "7df931c3-d394-424c-8ddf-19fe3487643a",
   "metadata": {
    "tags": []
   },
   "outputs": [
    {
     "ename": "IndexError",
     "evalue": "single positional indexer is out-of-bounds",
     "output_type": "error",
     "traceback": [
      "\u001b[0;31m---------------------------------------------------------------------------\u001b[0m",
      "\u001b[0;31mIndexError\u001b[0m                                Traceback (most recent call last)",
      "Cell \u001b[0;32mIn[27], line 8\u001b[0m\n\u001b[1;32m      6\u001b[0m pop_2015 \u001b[38;5;241m=\u001b[39m pop_group(pop_2015, \u001b[38;5;124m'\u001b[39m\u001b[38;5;124mpop_2015\u001b[39m\u001b[38;5;124m'\u001b[39m)\n\u001b[1;32m      7\u001b[0m pop_2016 \u001b[38;5;241m=\u001b[39m pop_group(pop_2016, \u001b[38;5;124m'\u001b[39m\u001b[38;5;124mpop_2016\u001b[39m\u001b[38;5;124m'\u001b[39m)\n\u001b[0;32m----> 8\u001b[0m pop_2017 \u001b[38;5;241m=\u001b[39m pop_group2(pop_2017, \u001b[38;5;124m'\u001b[39m\u001b[38;5;124mpop_2017\u001b[39m\u001b[38;5;124m'\u001b[39m)\n\u001b[1;32m      9\u001b[0m pop_2018 \u001b[38;5;241m=\u001b[39m pop_group2(pop_2018, \u001b[38;5;124m'\u001b[39m\u001b[38;5;124mpop_2018\u001b[39m\u001b[38;5;124m'\u001b[39m)\n\u001b[1;32m     10\u001b[0m pop_2019 \u001b[38;5;241m=\u001b[39m pop_group2(pop_2019, \u001b[38;5;124m'\u001b[39m\u001b[38;5;124mpop_2019\u001b[39m\u001b[38;5;124m'\u001b[39m)\n",
      "Cell \u001b[0;32mIn[26], line 22\u001b[0m, in \u001b[0;36mpop_group2\u001b[0;34m(df, title)\u001b[0m\n\u001b[1;32m     20\u001b[0m df \u001b[38;5;241m=\u001b[39m df\u001b[38;5;241m.\u001b[39mT\n\u001b[1;32m     21\u001b[0m df\u001b[38;5;241m.\u001b[39mreset_index(inplace\u001b[38;5;241m=\u001b[39m\u001b[38;5;28;01mTrue\u001b[39;00m)\n\u001b[0;32m---> 22\u001b[0m df\u001b[38;5;241m.\u001b[39mcolumns \u001b[38;5;241m=\u001b[39m df\u001b[38;5;241m.\u001b[39miloc[\u001b[38;5;241m0\u001b[39m]\n\u001b[1;32m     23\u001b[0m df \u001b[38;5;241m=\u001b[39m df\u001b[38;5;241m.\u001b[39miloc[\u001b[38;5;241m1\u001b[39m:]\n\u001b[1;32m     24\u001b[0m df\u001b[38;5;241m.\u001b[39mrename(columns\u001b[38;5;241m=\u001b[39m{\u001b[38;5;124m'\u001b[39m\u001b[38;5;124mLabel (Grouping)\u001b[39m\u001b[38;5;124m'\u001b[39m:\u001b[38;5;124m'\u001b[39m\u001b[38;5;124mcounty\u001b[39m\u001b[38;5;124m'\u001b[39m,\n\u001b[1;32m     25\u001b[0m                         \u001b[38;5;124m'\u001b[39m\u001b[38;5;130;01m\\xa0\u001b[39;00m\u001b[38;5;130;01m\\xa0\u001b[39;00m\u001b[38;5;130;01m\\xa0\u001b[39;00m\u001b[38;5;130;01m\\xa0\u001b[39;00m\u001b[38;5;124mTotal population\u001b[39m\u001b[38;5;124m'\u001b[39m: \u001b[38;5;124m'\u001b[39m\u001b[38;5;124mtotal_pop\u001b[39m\u001b[38;5;124m'\u001b[39m,\n\u001b[1;32m     26\u001b[0m                         \u001b[38;5;124m'\u001b[39m\u001b[38;5;124m        Under 5 years\u001b[39m\u001b[38;5;124m'\u001b[39m: \u001b[38;5;124m'\u001b[39m\u001b[38;5;124munder_5\u001b[39m\u001b[38;5;124m'\u001b[39m,\n\u001b[0;32m   (...)\u001b[0m\n\u001b[1;32m     39\u001b[0m                         \u001b[38;5;124m'\u001b[39m\u001b[38;5;124m        18 years and over\u001b[39m\u001b[38;5;124m'\u001b[39m: \u001b[38;5;124m'\u001b[39m\u001b[38;5;124m18+\u001b[39m\u001b[38;5;124m'\u001b[39m,\n\u001b[1;32m     40\u001b[0m                         \u001b[38;5;124m'\u001b[39m\u001b[38;5;124m        65 years and over\u001b[39m\u001b[38;5;124m'\u001b[39m: \u001b[38;5;124m'\u001b[39m\u001b[38;5;124m65+\u001b[39m\u001b[38;5;124m'\u001b[39m,}, inplace\u001b[38;5;241m=\u001b[39m\u001b[38;5;28;01mTrue\u001b[39;00m)\n",
      "File \u001b[0;32m/opt/homebrew/anaconda3/lib/python3.11/site-packages/pandas/core/indexing.py:1103\u001b[0m, in \u001b[0;36m_LocationIndexer.__getitem__\u001b[0;34m(self, key)\u001b[0m\n\u001b[1;32m   1100\u001b[0m axis \u001b[38;5;241m=\u001b[39m \u001b[38;5;28mself\u001b[39m\u001b[38;5;241m.\u001b[39maxis \u001b[38;5;129;01mor\u001b[39;00m \u001b[38;5;241m0\u001b[39m\n\u001b[1;32m   1102\u001b[0m maybe_callable \u001b[38;5;241m=\u001b[39m com\u001b[38;5;241m.\u001b[39mapply_if_callable(key, \u001b[38;5;28mself\u001b[39m\u001b[38;5;241m.\u001b[39mobj)\n\u001b[0;32m-> 1103\u001b[0m \u001b[38;5;28;01mreturn\u001b[39;00m \u001b[38;5;28mself\u001b[39m\u001b[38;5;241m.\u001b[39m_getitem_axis(maybe_callable, axis\u001b[38;5;241m=\u001b[39maxis)\n",
      "File \u001b[0;32m/opt/homebrew/anaconda3/lib/python3.11/site-packages/pandas/core/indexing.py:1656\u001b[0m, in \u001b[0;36m_iLocIndexer._getitem_axis\u001b[0;34m(self, key, axis)\u001b[0m\n\u001b[1;32m   1653\u001b[0m     \u001b[38;5;28;01mraise\u001b[39;00m \u001b[38;5;167;01mTypeError\u001b[39;00m(\u001b[38;5;124m\"\u001b[39m\u001b[38;5;124mCannot index by location index with a non-integer key\u001b[39m\u001b[38;5;124m\"\u001b[39m)\n\u001b[1;32m   1655\u001b[0m \u001b[38;5;66;03m# validate the location\u001b[39;00m\n\u001b[0;32m-> 1656\u001b[0m \u001b[38;5;28mself\u001b[39m\u001b[38;5;241m.\u001b[39m_validate_integer(key, axis)\n\u001b[1;32m   1658\u001b[0m \u001b[38;5;28;01mreturn\u001b[39;00m \u001b[38;5;28mself\u001b[39m\u001b[38;5;241m.\u001b[39mobj\u001b[38;5;241m.\u001b[39m_ixs(key, axis\u001b[38;5;241m=\u001b[39maxis)\n",
      "File \u001b[0;32m/opt/homebrew/anaconda3/lib/python3.11/site-packages/pandas/core/indexing.py:1589\u001b[0m, in \u001b[0;36m_iLocIndexer._validate_integer\u001b[0;34m(self, key, axis)\u001b[0m\n\u001b[1;32m   1587\u001b[0m len_axis \u001b[38;5;241m=\u001b[39m \u001b[38;5;28mlen\u001b[39m(\u001b[38;5;28mself\u001b[39m\u001b[38;5;241m.\u001b[39mobj\u001b[38;5;241m.\u001b[39m_get_axis(axis))\n\u001b[1;32m   1588\u001b[0m \u001b[38;5;28;01mif\u001b[39;00m key \u001b[38;5;241m>\u001b[39m\u001b[38;5;241m=\u001b[39m len_axis \u001b[38;5;129;01mor\u001b[39;00m key \u001b[38;5;241m<\u001b[39m \u001b[38;5;241m-\u001b[39mlen_axis:\n\u001b[0;32m-> 1589\u001b[0m     \u001b[38;5;28;01mraise\u001b[39;00m \u001b[38;5;167;01mIndexError\u001b[39;00m(\u001b[38;5;124m\"\u001b[39m\u001b[38;5;124msingle positional indexer is out-of-bounds\u001b[39m\u001b[38;5;124m\"\u001b[39m)\n",
      "\u001b[0;31mIndexError\u001b[0m: single positional indexer is out-of-bounds"
     ]
    }
   ],
   "source": [
    "pop_2017 = pop_group2(pop_2017, 'pop_2017')\n",
    "pop_2018 = pop_group2(pop_2018, 'pop_2018')\n",
    "pop_2019 = pop_group2(pop_2019, 'pop_2019')\n",
    "pop_2020 = pop_group2(pop_2020, 'pop_2020')\n",
    "pop_2021 = pop_group2(pop_2021, 'pop_2021')"
   ]
  },
  {
   "cell_type": "code",
   "execution_count": null,
   "id": "735f47ce-2231-4cfa-92e9-082a693fe90d",
   "metadata": {},
   "outputs": [],
   "source": []
  }
 ],
 "metadata": {
  "kernelspec": {
   "display_name": "Python 3 (ipykernel)",
   "language": "python",
   "name": "python3"
  },
  "language_info": {
   "codemirror_mode": {
    "name": "ipython",
    "version": 3
   },
   "file_extension": ".py",
   "mimetype": "text/x-python",
   "name": "python",
   "nbconvert_exporter": "python",
   "pygments_lexer": "ipython3",
   "version": "3.11.5"
  }
 },
 "nbformat": 4,
 "nbformat_minor": 5
}
